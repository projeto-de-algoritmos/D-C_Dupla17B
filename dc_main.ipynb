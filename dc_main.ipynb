{
 "cells": [
  {
   "cell_type": "code",
   "execution_count": 88,
   "metadata": {},
   "outputs": [],
   "source": [
    "import os, sys\n",
    "\n",
    "def mergeSortInversions(arr):\n",
    "    if len(arr) == 1:\n",
    "        return arr, 0\n",
    "    else:\n",
    "        a = arr[:len(arr)//2]\n",
    "        b = arr[len(arr)//2:]\n",
    "        a, ai = mergeSortInversions(a)\n",
    "        b, bi = mergeSortInversions(b)\n",
    "        c = []\n",
    "        i = 0\n",
    "        j = 0\n",
    "        inversions = 0 + ai + bi\n",
    "    while i < len(a) and j < len(b):\n",
    "        if a[i] <= b[j]:\n",
    "            c.append(a[i])\n",
    "            i += 1\n",
    "        else:\n",
    "            c.append(b[j])\n",
    "            j += 1\n",
    "            inversions += (len(a)-i)\n",
    "    c += a[i:]\n",
    "    c += b[j:]\n",
    "    return c, inversions"
   ]
  },
  {
   "cell_type": "code",
   "execution_count": 15,
   "metadata": {},
   "outputs": [
    {
     "data": {
      "text/plain": [
       "([1, 2, 3, 4, 5, 6, 7, 8, 9, 10, 11, 12], 22)"
      ]
     },
     "execution_count": 15,
     "metadata": {},
     "output_type": "execute_result"
    }
   ],
   "source": [
    "a = [ 1,5,4,8,10,2,6,9,12,11,3,7 ]\n",
    "mergeSortInversions(a)"
   ]
  },
  {
   "cell_type": "code",
   "execution_count": 83,
   "metadata": {},
   "outputs": [],
   "source": [
    "hobbies = [\"Programming\",\"Netflix\",\"Reading\",\"Videogames\",\"Music\", \"Drawing\"]\n",
    "people = {\n",
    "    \"Tati\": [\"Programming\",\"Netflix\",\"Reading\",\"Videogames\",\"Music\", \"Drawing\"],\n",
    "    \"Gabriel\": ['Music', 'Reading', 'Videogames', 'Netflix', 'Drawing', 'Programming'],\n",
    "    \"Israel\":['Videogames', 'Netflix', 'Reading', 'Drawing', 'Programming', 'Music'],\n",
    "    \"Julio\": ['Drawing', 'Music', 'Reading', 'Netflix', 'Videogames', 'Programming'],\n",
    "    \"Lula\": ['Videogames', 'Reading', 'Music', 'Netflix', 'Programming', 'Drawing']\n",
    "}\n",
    "# import random\n",
    "# a = [\"Programming\",\"Netflix\",\"Reading\",\"Videogames\",\"Music\", \"Drawing\"]\n",
    "# random.shuffle(a)\n",
    "# print(a)"
   ]
  },
  {
   "cell_type": "code",
   "execution_count": 63,
   "metadata": {},
   "outputs": [
    {
     "name": "stdout",
     "output_type": "stream",
     "text": [
      "\n",
      "These are all the registered hobbies. Type them in a list of preference\n",
      "\n",
      "['Programming', 'Netflix', 'Reading', 'Videogames', 'Music', 'Drawing']\n"
     ]
    }
   ],
   "source": [
    "from pprint import pprint\n",
    "possible_choices = hobbies\n",
    "print(\"\\nThese are all the registered hobbies. Type them in a list of preference\\n\")\n",
    "pprint(possible_choices, indent=4)"
   ]
  },
  {
   "cell_type": "code",
   "execution_count": 65,
   "metadata": {},
   "outputs": [
    {
     "name": "stdout",
     "output_type": "stream",
     "text": [
      "Enter the list items : Videogames Reading Music Netflix Programming Drawing\n",
      "['Videogames', 'Reading', 'Music', 'Netflix', 'Programming', 'Drawing']\n"
     ]
    }
   ],
   "source": [
    "choosen_order = [item for item in input(\"Enter the list items : \").split()] \n",
    "print(choosen_order)"
   ]
  },
  {
   "cell_type": "code",
   "execution_count": 90,
   "metadata": {},
   "outputs": [
    {
     "name": "stdout",
     "output_type": "stream",
     "text": [
      "[5, 4, 2, 1, 3, 6]\n",
      "8\n",
      "[3, 2, 1, 4, 6, 5]\n",
      "4\n",
      "[1, 4, 2, 6, 5, 3]\n",
      "5\n",
      "[6, 3, 2, 4, 1, 5]\n",
      "9\n",
      "[1, 2, 3, 4, 5, 6]\n",
      "0\n"
     ]
    }
   ],
   "source": [
    "for person in people:\n",
    "    hobbies_list = [choosen_order.index(hobbie)+1 for hobbie in people[person]]\n",
    "    print(hobbies_list)\n",
    "    print(mergeSortInversions(hobbies_list)[1])"
   ]
  },
  {
   "cell_type": "code",
   "execution_count": 20,
   "metadata": {},
   "outputs": [],
   "source": [
    "from __future__ import print_function\n",
    "from ipywidgets import interact, interactive, fixed, interact_manual\n",
    "import ipywidgets as widgets"
   ]
  },
  {
   "cell_type": "code",
   "execution_count": 21,
   "metadata": {},
   "outputs": [],
   "source": [
    "def f(x):\n",
    "    return x"
   ]
  },
  {
   "cell_type": "code",
   "execution_count": 43,
   "metadata": {},
   "outputs": [
    {
     "data": {
      "application/vnd.jupyter.widget-view+json": {
       "model_id": "04cc3eaddb31453a86961de019b01dbd",
       "version_major": 2,
       "version_minor": 0
      },
      "text/plain": [
       "interactive(children=(IntSlider(value=10, description='x', max=30, min=-10), Output()), _dom_classes=('widget-…"
      ]
     },
     "metadata": {},
     "output_type": "display_data"
    },
    {
     "data": {
      "text/plain": [
       "function"
      ]
     },
     "metadata": {},
     "output_type": "display_data"
    }
   ],
   "source": [
    "a =interact(f, x=10);\n",
    "display(type(a))\n"
   ]
  },
  {
   "cell_type": "code",
   "execution_count": 91,
   "metadata": {},
   "outputs": [
    {
     "name": "stdout",
     "output_type": "stream",
     "text": [
      "-5\n"
     ]
    }
   ],
   "source": [
    "print(a.widget.result)"
   ]
  },
  {
   "cell_type": "code",
   "execution_count": 3,
   "metadata": {},
   "outputs": [],
   "source": [
    "def countInversions(array):\n",
    "    if len(array) == 1:\n",
    "        return array, 0\n",
    "    else:\n",
    "        left = array[:len(array)//2]\n",
    "        right = array[len(array)//2:]\n",
    "        left, left_inversions = countInversions(left)\n",
    "        right, right_inversions = countInversions(right)\n",
    "        sorted_array = []\n",
    "        i = 0\n",
    "        j = 0\n",
    "        inversions = 0 + left_inversions + right_inversions\n",
    "    while i < len(left) and j < len(right):\n",
    "        if left[i] <= right[j]:\n",
    "            sorted_array.append(left[i])\n",
    "            i += 1\n",
    "        else:\n",
    "            sorted_array.append(right[j])\n",
    "            j += 1\n",
    "            inversions += (len(left)-i)\n",
    "    sorted_array += left[i:]\n",
    "    sorted_array += right[j:]\n",
    "    return sorted_array, inversions"
   ]
  },
  {
   "cell_type": "code",
   "execution_count": 5,
   "metadata": {},
   "outputs": [
    {
     "data": {
      "text/plain": [
       "([1, 2, 4, 8], 6)"
      ]
     },
     "execution_count": 5,
     "metadata": {},
     "output_type": "execute_result"
    }
   ],
   "source": [
    "countInversions([8, 4, 2, 1])  "
   ]
  }
 ],
 "metadata": {
  "kernelspec": {
   "display_name": "Python 3",
   "language": "python",
   "name": "python3"
  },
  "language_info": {
   "codemirror_mode": {
    "name": "ipython",
    "version": 3
   },
   "file_extension": ".py",
   "mimetype": "text/x-python",
   "name": "python",
   "nbconvert_exporter": "python",
   "pygments_lexer": "ipython3",
   "version": "3.8.5"
  }
 },
 "nbformat": 4,
 "nbformat_minor": 4
}

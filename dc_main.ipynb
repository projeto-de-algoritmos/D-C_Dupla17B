{
 "cells": [
  {
   "cell_type": "code",
   "execution_count": 14,
   "metadata": {},
   "outputs": [],
   "source": [
    "import os, sys\n",
    "\n",
    "def mergeSortInversions(arr):\n",
    "    if len(arr) == 1:\n",
    "        return arr, 0\n",
    "    else:\n",
    "        a = arr[:len(arr)//2]\n",
    "        b = arr[len(arr)//2:]\n",
    "        a, ai = mergeSortInversions(a)\n",
    "        b, bi = mergeSortInversions(b)\n",
    "        c = []\n",
    "        i = 0\n",
    "        j = 0\n",
    "        inversions = 0 + ai + bi\n",
    "    while i < len(a) and j < len(b):\n",
    "        if a[i] <= b[j]:\n",
    "            c.append(a[i])\n",
    "            i += 1\n",
    "        else:\n",
    "            c.append(b[j])\n",
    "            j += 1\n",
    "            inversions += (len(a)-i)\n",
    "    c += a[i:]\n",
    "    c += b[j:]\n",
    "    return c, inversions"
   ]
  },
  {
   "cell_type": "code",
   "execution_count": 15,
   "metadata": {},
   "outputs": [
    {
     "data": {
      "text/plain": [
       "([1, 2, 3, 4, 5, 6, 7, 8, 9, 10, 11, 12], 22)"
      ]
     },
     "execution_count": 15,
     "metadata": {},
     "output_type": "execute_result"
    }
   ],
   "source": [
    "a = [ 1,5,4,8,10,2,6,9,12,11,3,7 ]\n",
    "mergeSortInversions(a)"
   ]
  },
  {
   "cell_type": "code",
   "execution_count": null,
   "metadata": {},
   "outputs": [],
   "source": []
  }
 ],
 "metadata": {
  "kernelspec": {
   "display_name": "Python 3",
   "language": "python",
   "name": "python3"
  },
  "language_info": {
   "codemirror_mode": {
    "name": "ipython",
    "version": 3
   },
   "file_extension": ".py",
   "mimetype": "text/x-python",
   "name": "python",
   "nbconvert_exporter": "python",
   "pygments_lexer": "ipython3",
   "version": "3.8.5"
  }
 },
 "nbformat": 4,
 "nbformat_minor": 4
}
